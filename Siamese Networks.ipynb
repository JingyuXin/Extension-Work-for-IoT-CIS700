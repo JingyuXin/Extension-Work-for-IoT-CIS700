{
 "cells": [
  {
   "cell_type": "code",
   "execution_count": 134,
   "metadata": {
    "collapsed": true
   },
   "outputs": [],
   "source": [
    "import numpy as np\n",
    "import torch\n",
    "import torch.nn as nn\n",
    "from torch import optim\n",
    "import torch.nn.functional as F\n",
    "import os\n",
    "import random"
   ]
  },
  {
   "cell_type": "code",
   "execution_count": 135,
   "metadata": {
    "collapsed": true
   },
   "outputs": [],
   "source": [
    "import pickle\n",
    "# data structure for signal pair\n",
    "# if x1 x2 are from the same person, label = 0\n",
    "# else label = 1\n",
    "class x_pair:\n",
    "    def __init__(self, x1, x2, label): # 1x3x200\n",
    "        assert(x1.shape == x2.shape)\n",
    "        self.x1 = x1\n",
    "        self.x2 = x2\n",
    "        self.label = label\n",
    "\n",
    "path = '/home/jxin05/Project_2020/Siamese/'"
   ]
  },
  {
   "cell_type": "code",
   "execution_count": 137,
   "metadata": {
    "collapsed": true
   },
   "outputs": [],
   "source": [
    "class SiameseNetwork(nn.Module):\n",
    "    def __init__(self):\n",
    "        super(SiameseNetwork, self).__init__()\n",
    "        \n",
    "        self.cnn1 = nn.Sequential(nn.Conv2d(1, 256, (2,3), stride = (1,1)),\n",
    "                                 nn.ReLU(inplace=True),\n",
    "                                 nn.LocalResponseNorm(5,alpha=0.0001,beta=0.75,k=2),\n",
    "                                 nn.MaxPool2d((1, 2), stride=(1, 2)))\n",
    "        self.cnn2 = nn.Sequential(nn.Conv2d(256, 128, (2,3), stride = (1,2)),\n",
    "                                 nn.ReLU(inplace=True),\n",
    "                                 nn.LocalResponseNorm(5,alpha=0.0001,beta=0.75,k=2),\n",
    "                                 nn.Dropout2d(p=0.3))\n",
    "        self.cnn3 = nn.Sequential(nn.Conv1d(128,64, 4, stride = 2),\n",
    "                                  nn.ReLU(inplace=True),\n",
    "                                  nn.MaxPool1d(3, stride=2))\n",
    "        self.fc1 = nn.Sequential(nn.Linear(704, 256),\n",
    "                                nn.Dropout(0.3),\n",
    "                                nn.ReLU(inplace=True),\n",
    "                                nn.Linear(256,128),\n",
    "                                nn.Dropout(0.3),\n",
    "                                nn.ReLU(inplace=True),\n",
    "                                nn.Linear(128,32))\n",
    "        self.fc2 = nn.Sequential(nn.Linear(64, 1),\n",
    "                                nn.Sigmoid())\n",
    "                            \n",
    "    def forward_once(self, x):\n",
    "        output = self.cnn1(x)\n",
    "        output = self.cnn2(output)\n",
    "        output = output.squeeze(2)\n",
    "        output = self.cnn3(output)\n",
    "        output = output.view(output.size(0),-1)\n",
    "        y = self.fc1(output)\n",
    "        return y\n",
    "        \n",
    "    def forward(self, x1, x2):\n",
    "        y1 = self.forward_once(x1)\n",
    "        y2 = self.forward_once(x2)\n",
    "        \n",
    "        f = torch.cat((y1,y2), 1)\n",
    "        f = self.fc2(f)\n",
    "        return f\n",
    "    \n",
    "def init_weights(m):\n",
    "    if type(m) == nn.Conv2d or type(m) == nn.Conv1d or type(m) == nn.Linear:\n",
    "        torch.nn.init.orthogonal_(m.weight)\n",
    "        m.bias.data.fill_(0)     \n",
    "    "
   ]
  },
  {
   "cell_type": "code",
   "execution_count": 267,
   "metadata": {
    "collapsed": false
   },
   "outputs": [
    {
     "data": {
      "text/plain": [
       "['dataset8',\n",
       " 'dataset3',\n",
       " 'dataset1',\n",
       " 'dataset5',\n",
       " 'dataset2',\n",
       " 'dataset6',\n",
       " 'dataset7',\n",
       " 'dataset10',\n",
       " 'dataset4',\n",
       " 'dataset9']"
      ]
     },
     "execution_count": 267,
     "metadata": {},
     "output_type": "execute_result"
    }
   ],
   "source": [
    "exps = os.listdir(path)\n",
    "exps\n",
    "# I created 10 datasets"
   ]
  },
  {
   "cell_type": "code",
   "execution_count": 268,
   "metadata": {
    "collapsed": false
   },
   "outputs": [
    {
     "data": {
      "text/plain": [
       "'dataset1'"
      ]
     },
     "execution_count": 268,
     "metadata": {},
     "output_type": "execute_result"
    }
   ],
   "source": [
    "exps[2]"
   ]
  },
  {
   "cell_type": "code",
   "execution_count": 280,
   "metadata": {
    "collapsed": true
   },
   "outputs": [],
   "source": [
    "exp = exps[2]\n",
    "datapath = path + exp\n"
   ]
  },
  {
   "cell_type": "code",
   "execution_count": 281,
   "metadata": {
    "collapsed": true
   },
   "outputs": [],
   "source": [
    "with open(datapath + '/train.pickle', 'rb') as f:\n",
    "    trainDict = pickle.load(f)\n",
    "with open(datapath + '/test.pickle', 'rb') as f:\n",
    "    testDict = pickle.load(f)"
   ]
  },
  {
   "cell_type": "code",
   "execution_count": 294,
   "metadata": {
    "collapsed": true
   },
   "outputs": [],
   "source": [
    "a = trainDict['same'][1].x1[0]\n",
    "b = trainDict['same'][1].x2[0]\n",
    "# a and b are from a same person"
   ]
  },
  {
   "cell_type": "code",
   "execution_count": 295,
   "metadata": {
    "collapsed": false
   },
   "outputs": [
    {
     "data": {
      "image/png": "[encoded data removed]",
      "text/plain": [
       "<Figure size 432x288 with 1 Axes>"
      ]
     },
     "metadata": {
      "needs_background": "light"
     },
     "output_type": "display_data"
    }
   ],
   "source": [
    "x = np.arange(len(a))\n",
    "import matplotlib.pyplot as plt\n",
    "plt.plot(x,a)\n",
    "plt.show()"
   ]
  },
  {
   "cell_type": "code",
   "execution_count": 296,
   "metadata": {
    "collapsed": false
   },
   "outputs": [
    {
     "data": {
      "image/png": "[encoded data removed]",
      "text/plain": [
       "<Figure size 432x288 with 1 Axes>"
      ]
     },
     "metadata": {
      "needs_background": "light"
     },
     "output_type": "display_data"
    }
   ],
   "source": [
    "plt.plot(x,b)\n",
    "plt.show()"
   ]
  },
  {
   "cell_type": "code",
   "execution_count": 285,
   "metadata": {
    "collapsed": true
   },
   "outputs": [],
   "source": [
    "def takeBatch(batchsize, trainSet, h, w):\n",
    "    num_sample = len(trainSet)\n",
    "    random.shuffle(trainSet)\n",
    "    for i in range(0,num_sample-batchsize+1, batchsize):\n",
    "        x1s = np.zeros((batchsize, h, w))\n",
    "        x2s = np.zeros((batchsize, h, w))\n",
    "        ys = np.zeros((batchsize,1))\n",
    "        for j in range(batchsize):\n",
    "            x1s[j, :, :] = trainSet[i+j].x1\n",
    "            x2s[j, :, :] = trainSet[i+j].x2\n",
    "            ys[j] = trainSet[i+j].label\n",
    "            \n",
    "        x1s = torch.from_numpy(x1s).float()\n",
    "        x2s = torch.from_numpy(x2s).float()\n",
    "        x1s = x1s.view(batchsize, 1, h, w)\n",
    "        x2s = x2s.view(batchsize, 1, h, w)\n",
    "        yield x1s, x2s, ys\n",
    "        \n",
    "# count = 0\n",
    "# for x1s, x2s, ys in takeBacth(40, trainDict):\n",
    "#     print(len(ys[ys == 1]))\n",
    "#     print(len(ys[ys == 0]))\n",
    "#     count += 1\n",
    "# print(count)"
   ]
  },
  {
   "cell_type": "code",
   "execution_count": 286,
   "metadata": {
    "collapsed": true
   },
   "outputs": [],
   "source": [
    "def validatation(valSet, h, w):\n",
    "    num_sample = len(valSet)\n",
    "    x1s = np.zeros((num_sample, h, w))\n",
    "    x2s = np.zeros((num_sample, h, w))\n",
    "    ys = np.zeros((num_sample,1))\n",
    "    for i in range(num_sample):\n",
    "        x1s[i, :, :] = valSet[i].x1\n",
    "        x2s[i, :, :] = valSet[i].x2\n",
    "        ys[i] = valSet[i].label\n",
    "    x1s = torch.from_numpy(x1s).float()\n",
    "    x2s = torch.from_numpy(x2s).float()\n",
    "    x1s = x1s.view(num_sample, 1, h, w)\n",
    "    x2s = x2s.view(num_sample, 1, h, w)\n",
    "    return x1s, x2s, ys\n",
    "\n",
    "def validate(valX1, valX2, valY, net):\n",
    "    s = net(valX1, valX2)\n",
    "    s[s>0.5] = 1\n",
    "    s[s<=0.5] = 0\n",
    "    y = torch.from_numpy(valY)\n",
    "    \n",
    "    res = s==y\n",
    "    acc = len(res[res==True])/len(res)\n",
    "    return acc"
   ]
  },
  {
   "cell_type": "code",
   "execution_count": 289,
   "metadata": {
    "collapsed": true
   },
   "outputs": [],
   "source": [
    "def trainBatch(net, data_dict, batch_size = 40, epochs = 1000, lr = 0.008):\n",
    "    num_sample = len(data_dict['same']) + len(data_dict['diff'])\n",
    "    h, w = data_dict['same'][0].x1.shape\n",
    "    dataset = data_dict['same'] + data_dict['diff']\n",
    "    random.shuffle(dataset)\n",
    "    trainSet = dataset[:-2000]\n",
    "    valSet = dataset[-2000:]\n",
    "    valX1, valX2, valY = validatation(valSet, h, w)\n",
    "    val_acc = 0\n",
    "    opt = torch.optim.Adam(net.parameters(), lr)\n",
    "    loss_func = nn.BCELoss() \n",
    "    for epoch in range(epochs):\n",
    "        train_loss = []\n",
    "        net.train()\n",
    "        #count = 0\n",
    "        for x1s, x2s, ys in takeBatch(batch_size,trainSet, h, w):\n",
    "            targets = torch.from_numpy(ys).view(batch_size, -1)\n",
    "            #targets = targets.squeeze()\n",
    "            opt.zero_grad()\n",
    "            \n",
    "            out = net(x1s, x2s)\n",
    "            loss = loss_func(out, targets.float())\n",
    "            train_loss.append(loss.item())\n",
    "            loss.backward()\n",
    "            opt.step()\n",
    "        acc = validate(valX1, valX2, valY, net)\n",
    "        if(acc >= val_acc): # store the model performs best on validation set\n",
    "            best_model = net\n",
    "            val_acc = acc\n",
    "        print(\"Epoch: {}/{}...\".format(epoch+1, epochs),\n",
    "        \"Train Loss: {:.4f}...\".format(np.mean(train_loss)),\n",
    "              \"Validation acc: {:.4f}...\".format(acc))\n",
    "    final_model = net\n",
    "    return final_model, best_model"
   ]
  },
  {
   "cell_type": "code",
   "execution_count": null,
   "metadata": {
    "collapsed": false
   },
   "outputs": [
    {
     "name": "stdout",
     "output_type": "stream",
     "text": [
      "Epoch: 1/1000... Train Loss: 0.7079... Validation acc: 0.5160...\n",
      "Epoch: 2/1000... Train Loss: 0.6939... Validation acc: 0.4850...\n",
      "Epoch: 3/1000... Train Loss: 0.6935... Validation acc: 0.5150...\n",
      "Epoch: 4/1000... Train Loss: 0.6934... Validation acc: 0.5145...\n",
      "Epoch: 5/1000... Train Loss: 0.6934... Validation acc: 0.4850...\n",
      "Epoch: 6/1000... Train Loss: 0.6933... Validation acc: 0.4850...\n",
      "Epoch: 7/1000... Train Loss: 0.6951... Validation acc: 0.4900...\n",
      "Epoch: 8/1000... Train Loss: 0.6936... Validation acc: 0.4850...\n",
      "Epoch: 9/1000... Train Loss: 0.6934... Validation acc: 0.5150...\n",
      "Epoch: 10/1000... Train Loss: 0.6933... Validation acc: 0.5155...\n",
      "Epoch: 11/1000... Train Loss: 0.6935... Validation acc: 0.4855...\n",
      "Epoch: 12/1000... Train Loss: 0.6935... Validation acc: 0.5150...\n",
      "Epoch: 13/1000... Train Loss: 0.6933... Validation acc: 0.4850...\n",
      "Epoch: 14/1000... Train Loss: 0.6932... Validation acc: 0.4850...\n",
      "Epoch: 15/1000... Train Loss: 0.6932... Validation acc: 0.5150...\n",
      "Epoch: 16/1000... Train Loss: 0.6933... Validation acc: 0.5150...\n",
      "Epoch: 17/1000... Train Loss: 0.6935... Validation acc: 0.5150...\n",
      "Epoch: 18/1000... Train Loss: 0.6938... Validation acc: 0.5130...\n",
      "Epoch: 19/1000... Train Loss: 0.6936... Validation acc: 0.4850...\n",
      "Epoch: 20/1000... Train Loss: 0.6934... Validation acc: 0.4850...\n",
      "Epoch: 21/1000... Train Loss: 0.6934... Validation acc: 0.4850...\n",
      "Epoch: 22/1000... Train Loss: 0.6936... Validation acc: 0.4850...\n",
      "Epoch: 23/1000... Train Loss: 0.6934... Validation acc: 0.4850...\n",
      "Epoch: 24/1000... Train Loss: 0.6933... Validation acc: 0.5150...\n",
      "Epoch: 25/1000... Train Loss: 0.6936... Validation acc: 0.4850...\n",
      "Epoch: 26/1000... Train Loss: 0.6934... Validation acc: 0.4850...\n",
      "Epoch: 27/1000... Train Loss: 0.6934... Validation acc: 0.4850...\n",
      "Epoch: 28/1000... Train Loss: 0.6934... Validation acc: 0.4850...\n",
      "Epoch: 29/1000... Train Loss: 0.6934... Validation acc: 0.5150...\n",
      "Epoch: 30/1000... Train Loss: 0.6935... Validation acc: 0.5150...\n",
      "Epoch: 31/1000... Train Loss: 0.6935... Validation acc: 0.5150...\n",
      "Epoch: 32/1000... Train Loss: 0.6934... Validation acc: 0.4850...\n",
      "Epoch: 33/1000... Train Loss: 0.6935... Validation acc: 0.5150...\n",
      "Epoch: 34/1000... Train Loss: 0.6937... Validation acc: 0.5150...\n",
      "Epoch: 35/1000... Train Loss: 0.6933... Validation acc: 0.5150...\n",
      "Epoch: 36/1000... Train Loss: 0.6934... Validation acc: 0.4850...\n",
      "Epoch: 37/1000... Train Loss: 0.6937... Validation acc: 0.4850...\n",
      "Epoch: 38/1000... Train Loss: 0.6934... Validation acc: 0.4850...\n",
      "Epoch: 39/1000... Train Loss: 0.6937... Validation acc: 0.4850...\n",
      "Epoch: 40/1000... Train Loss: 0.6934... Validation acc: 0.5150...\n",
      "Epoch: 41/1000... Train Loss: 0.6935... Validation acc: 0.5150...\n",
      "Epoch: 42/1000... Train Loss: 0.6934... Validation acc: 0.4850...\n",
      "Epoch: 43/1000... Train Loss: 0.6933... Validation acc: 0.4850...\n",
      "Epoch: 44/1000... Train Loss: 0.6933... Validation acc: 0.5150...\n",
      "Epoch: 45/1000... Train Loss: 0.6932... Validation acc: 0.5150...\n",
      "Epoch: 46/1000... Train Loss: 0.6938... Validation acc: 0.4850...\n",
      "Epoch: 47/1000... Train Loss: 0.6933... Validation acc: 0.4850...\n",
      "Epoch: 48/1000... Train Loss: 0.6941... Validation acc: 0.4850...\n",
      "Epoch: 49/1000... Train Loss: 0.6935... Validation acc: 0.5150...\n",
      "Epoch: 50/1000... Train Loss: 0.6934... Validation acc: 0.5150...\n",
      "Epoch: 51/1000... Train Loss: 0.6937... Validation acc: 0.4850...\n",
      "Epoch: 52/1000... Train Loss: 0.6932... Validation acc: 0.4850...\n",
      "Epoch: 53/1000... Train Loss: 0.6934... Validation acc: 0.5150...\n",
      "Epoch: 54/1000... Train Loss: 0.6935... Validation acc: 0.4850...\n",
      "Epoch: 55/1000... Train Loss: 0.6934... Validation acc: 0.5150...\n",
      "Epoch: 56/1000... Train Loss: 0.6934... Validation acc: 0.5150...\n",
      "Epoch: 57/1000... Train Loss: 0.6936... Validation acc: 0.4850...\n",
      "Epoch: 58/1000... Train Loss: 0.6935... Validation acc: 0.5150...\n",
      "Epoch: 59/1000... Train Loss: 0.6936... Validation acc: 0.4850...\n",
      "Epoch: 60/1000... Train Loss: 0.6935... Validation acc: 0.5150...\n",
      "Epoch: 61/1000... Train Loss: 0.6933... Validation acc: 0.5150...\n",
      "Epoch: 62/1000... Train Loss: 0.6934... Validation acc: 0.4850...\n",
      "Epoch: 63/1000... Train Loss: 0.6936... Validation acc: 0.5150...\n",
      "Epoch: 64/1000... Train Loss: 0.6934... Validation acc: 0.5150...\n",
      "Epoch: 65/1000... Train Loss: 0.6930... Validation acc: 0.4850...\n",
      "Epoch: 66/1000... Train Loss: 0.6937... Validation acc: 0.5150...\n",
      "Epoch: 67/1000... Train Loss: 0.6934... Validation acc: 0.4850...\n",
      "Epoch: 68/1000... Train Loss: 0.6933... Validation acc: 0.4850...\n",
      "Epoch: 69/1000... Train Loss: 0.6933... Validation acc: 0.5150...\n",
      "Epoch: 70/1000... Train Loss: 0.6938... Validation acc: 0.4850...\n",
      "Epoch: 71/1000... Train Loss: 0.6933... Validation acc: 0.5150...\n",
      "Epoch: 72/1000... Train Loss: 0.6933... Validation acc: 0.5150...\n",
      "Epoch: 73/1000... Train Loss: 0.6936... Validation acc: 0.5150...\n",
      "Epoch: 74/1000... Train Loss: 0.6935... Validation acc: 0.4850...\n",
      "Epoch: 75/1000... Train Loss: 0.6935... Validation acc: 0.4850...\n",
      "Epoch: 76/1000... Train Loss: 0.6933... Validation acc: 0.4850...\n",
      "Epoch: 77/1000... Train Loss: 0.6932... Validation acc: 0.5150...\n",
      "Epoch: 78/1000... Train Loss: 0.6936... Validation acc: 0.5150...\n",
      "Epoch: 79/1000... Train Loss: 0.6936... Validation acc: 0.4850...\n",
      "Epoch: 80/1000... Train Loss: 0.6935... Validation acc: 0.5150...\n",
      "Epoch: 81/1000... Train Loss: 0.6933... Validation acc: 0.5150...\n",
      "Epoch: 82/1000... Train Loss: 0.6932... Validation acc: 0.5150...\n",
      "Epoch: 83/1000... Train Loss: 0.6933... Validation acc: 0.4850...\n",
      "Epoch: 84/1000... Train Loss: 0.6934... Validation acc: 0.5150...\n",
      "Epoch: 85/1000... Train Loss: 0.6935... Validation acc: 0.5150...\n",
      "Epoch: 86/1000... Train Loss: 0.6934... Validation acc: 0.4850...\n",
      "Epoch: 87/1000... Train Loss: 0.6936... Validation acc: 0.4850...\n",
      "Epoch: 88/1000... Train Loss: 0.6934... Validation acc: 0.4850...\n",
      "Epoch: 89/1000... Train Loss: 0.6936... Validation acc: 0.5150...\n",
      "Epoch: 90/1000... Train Loss: 0.6935... Validation acc: 0.4850...\n",
      "Epoch: 91/1000... Train Loss: 0.6932... Validation acc: 0.4850...\n",
      "Epoch: 92/1000... Train Loss: 0.6933... Validation acc: 0.4850...\n",
      "Epoch: 93/1000... Train Loss: 0.6934... Validation acc: 0.5150...\n",
      "Epoch: 94/1000... Train Loss: 0.6933... Validation acc: 0.4850...\n",
      "Epoch: 95/1000... Train Loss: 0.6933... Validation acc: 0.5150...\n",
      "Epoch: 96/1000... Train Loss: 0.6934... Validation acc: 0.4850...\n",
      "Epoch: 97/1000... Train Loss: 0.6934... Validation acc: 0.4850...\n",
      "Epoch: 98/1000... Train Loss: 0.6938... Validation acc: 0.4850...\n",
      "Epoch: 99/1000... Train Loss: 0.6934... Validation acc: 0.5150...\n",
      "Epoch: 100/1000... Train Loss: 0.6935... Validation acc: 0.5150...\n",
      "Epoch: 101/1000... Train Loss: 0.6936... Validation acc: 0.4850...\n",
      "Epoch: 102/1000... Train Loss: 0.6935... Validation acc: 0.4850...\n"
     ]
    }
   ],
   "source": [
    "net = SiameseNetwork()\n",
    "net.apply(init_weights)\n",
    "final_model, best_model = trainBatch(net, trainDict)"
   ]
  },
  {
   "cell_type": "code",
   "execution_count": null,
   "metadata": {
    "collapsed": true
   },
   "outputs": [],
   "source": []
  }
 ],
 "metadata": {
  "anaconda-cloud": {},
  "kernelspec": {
   "display_name": "Python [default]",
   "language": "python",
   "name": "python3"
  },
  "language_info": {
   "codemirror_mode": {
    "name": "ipython",
    "version": 3
   },
   "file_extension": ".py",
   "mimetype": "text/x-python",
   "name": "python",
   "nbconvert_exporter": "python",
   "pygments_lexer": "ipython3",
   "version": "3.5.6"
  }
 },
 "nbformat": 4,
 "nbformat_minor": 4
}
